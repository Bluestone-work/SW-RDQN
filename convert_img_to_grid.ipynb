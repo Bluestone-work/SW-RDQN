{
 "cells": [
  {
   "cell_type": "code",
   "execution_count": 1,
   "metadata": {},
   "outputs": [],
   "source": [
    "import cv2\n",
    "import numpy as np\n",
    "import matplotlib.pyplot as plt"
   ]
  },
  {
   "cell_type": "code",
   "execution_count": 2,
   "metadata": {},
   "outputs": [],
   "source": [
    "def convert_to_grid_map(image_path, grid_size=(10, 10), threshold=0.5):\n",
    "    # 读取图像并转换为灰度\n",
    "    image = cv2.imread(image_path, cv2.IMREAD_GRAYSCALE)\n",
    "    \n",
    "    # 将图像二值化：设置阈值，墙壁和家具设为白色(255)，空白区域设为黑色(0)\n",
    "    _, binary_image = cv2.threshold(image, 127, 255, cv2.THRESH_BINARY_INV)\n",
    "\n",
    "    # 获取图像尺寸\n",
    "    height, width = binary_image.shape\n",
    "    \n",
    "    # 根据栅格大小确定栅格地图尺寸\n",
    "    grid_height = height // grid_size[1]\n",
    "    grid_width = width // grid_size[0]\n",
    "    grid_map = np.zeros((grid_height, grid_width), dtype=int)\n",
    "\n",
    "    # 遍历每一个栅格单元，统计每个单元内的黑色像素数量\n",
    "    for i in range(grid_height):\n",
    "        for j in range(grid_width):\n",
    "            # 获取该栅格单元的像素块\n",
    "            cell = binary_image[i*grid_size[1]:(i+1)*grid_size[1], j*grid_size[0]:(j+1)*grid_size[0]]\n",
    "            \n",
    "            # 计算黑色像素占比\n",
    "            black_pixel_ratio = np.mean(cell == 255)\n",
    "            \n",
    "            # 如果黑色像素比例高于阈值，则标记为占用单元\n",
    "            if black_pixel_ratio > threshold:\n",
    "                grid_map[i, j] = 1\n",
    "\n",
    "    return grid_map"
   ]
  },
  {
   "cell_type": "code",
   "execution_count": 3,
   "metadata": {},
   "outputs": [],
   "source": [
    "def plot_grid_map(grid_map):\n",
    "    plt.imshow(grid_map, cmap='gray', origin='upper')\n",
    "    plt.title(\"Grid Map\")\n",
    "    plt.xlabel(\"Grid X\")\n",
    "    plt.ylabel(\"Grid Y\")\n",
    "    plt.show()"
   ]
  },
  {
   "cell_type": "code",
   "execution_count": 4,
   "metadata": {},
   "outputs": [
    {
     "name": "stdout",
     "output_type": "stream",
     "text": [
      "(476, 636)\n"
     ]
    },
    {
     "data": {
      "image/png": "[encoded data removed]",
      "text/plain": [
       "<Figure size 640x480 with 1 Axes>"
      ]
     },
     "metadata": {},
     "output_type": "display_data"
    }
   ],
   "source": [
    "# 设置图片路径和栅格大小\n",
    "image_path = \"map2.png\"\n",
    "grid_size = (5, 5)  # 栅格大小 (宽度, 高度)\n",
    "threshold = 1e-8   # 占用阈值\n",
    "\n",
    "image = cv2.imread(image_path, cv2.IMREAD_GRAYSCALE)\n",
    "_, binary_image = cv2.threshold(image, 127, 255, cv2.THRESH_BINARY_INV)\n",
    "print(binary_image.shape)\n",
    "\n",
    "# 转换为栅格地图\n",
    "grid_map = convert_to_grid_map(image_path, grid_size, threshold)\n",
    "\n",
    "# 可视化栅格地图\n",
    "plot_grid_map(grid_map)"
   ]
  },
  {
   "cell_type": "code",
   "execution_count": 5,
   "metadata": {},
   "outputs": [
    {
     "name": "stdout",
     "output_type": "stream",
     "text": [
      "Grid Map Matrix:\n",
      "[[1 1 1 ... 1 1 1]\n",
      " [1 1 1 ... 1 1 1]\n",
      " [1 1 1 ... 1 1 1]\n",
      " ...\n",
      " [1 1 1 ... 1 1 1]\n",
      " [1 1 1 ... 1 1 1]\n",
      " [1 1 1 ... 1 1 1]]\n"
     ]
    }
   ],
   "source": [
    "# 打印矩阵形式\n",
    "print(\"Grid Map Matrix:\")\n",
    "print(grid_map)\n",
    "\n",
    "# 可选：将矩阵保存为文本文件\n",
    "np.savetxt(\"grid_map3.txt\", grid_map, fmt=\"%d\", delimiter=\" \")\n"
   ]
  }
 ],
 "metadata": {
  "kernelspec": {
   "display_name": "lab",
   "language": "python",
   "name": "python3"
  },
  "language_info": {
   "codemirror_mode": {
    "name": "ipython",
    "version": 3
   },
   "file_extension": ".py",
   "mimetype": "text/x-python",
   "name": "python",
   "nbconvert_exporter": "python",
   "pygments_lexer": "ipython3",
   "version": "3.12.7"
  }
 },
 "nbformat": 4,
 "nbformat_minor": 2
}
